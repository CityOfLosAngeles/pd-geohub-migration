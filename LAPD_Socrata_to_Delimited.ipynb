{
 "cells": [
  {
   "cell_type": "markdown",
   "metadata": {},
   "source": [
    "## Task is to collect data from Socrata and covert it to a delimited file\n",
    "\n",
    "##### Author: \n",
    "-- Gaurav Bhardwaj"
   ]
  },
  {
   "cell_type": "code",
   "execution_count": 1,
   "metadata": {},
   "outputs": [],
   "source": [
    "## Importing required packages\n",
    "from sodapy import Socrata as sc\n",
    "import pandas as pd\n",
    "import json\n",
    "import credentials as cd"
   ]
  },
  {
   "cell_type": "markdown",
   "metadata": {},
   "source": [
    "### Sodapy client function to retrieve data"
   ]
  },
  {
   "cell_type": "code",
   "execution_count": 2,
   "metadata": {},
   "outputs": [],
   "source": [
    "client = sc(domain = \"data.lacity.org\", app_token = cd.app_token, username = cd.username, password = cd.password)"
   ]
  },
  {
   "cell_type": "code",
   "execution_count": 3,
   "metadata": {},
   "outputs": [],
   "source": [
    "results = client.get(\"im35-exj5\", limit=1000000000)"
   ]
  },
  {
   "cell_type": "code",
   "execution_count": 4,
   "metadata": {},
   "outputs": [],
   "source": [
    "data = pd.DataFrame.from_records(results)"
   ]
  },
  {
   "cell_type": "code",
   "execution_count": 5,
   "metadata": {},
   "outputs": [
    {
     "data": {
      "text/html": [
       "<div>\n",
       "<style scoped>\n",
       "    .dataframe tbody tr th:only-of-type {\n",
       "        vertical-align: middle;\n",
       "    }\n",
       "\n",
       "    .dataframe tbody tr th {\n",
       "        vertical-align: top;\n",
       "    }\n",
       "\n",
       "    .dataframe thead th {\n",
       "        text-align: right;\n",
       "    }\n",
       "</style>\n",
       "<table border=\"1\" class=\"dataframe\">\n",
       "  <thead>\n",
       "    <tr style=\"text-align: right;\">\n",
       "      <th></th>\n",
       "      <th>area_occurred</th>\n",
       "      <th>call_type_code</th>\n",
       "      <th>call_type_description</th>\n",
       "      <th>dispatch_date</th>\n",
       "      <th>dispatch_time</th>\n",
       "      <th>incident_number</th>\n",
       "      <th>reporting_district</th>\n",
       "    </tr>\n",
       "  </thead>\n",
       "  <tbody>\n",
       "    <tr>\n",
       "      <th>0</th>\n",
       "      <td>Pacific</td>\n",
       "      <td>9212</td>\n",
       "      <td>TRESPASS SUSP</td>\n",
       "      <td>2017-12-02T00:00:00.000</td>\n",
       "      <td>23:59:46</td>\n",
       "      <td>171202006023</td>\n",
       "      <td>1452</td>\n",
       "    </tr>\n",
       "    <tr>\n",
       "      <th>1</th>\n",
       "      <td>Devonshire</td>\n",
       "      <td>006</td>\n",
       "      <td>CODE 6</td>\n",
       "      <td>2017-12-02T00:00:00.000</td>\n",
       "      <td>23:59:06</td>\n",
       "      <td>171202006029</td>\n",
       "      <td>1743</td>\n",
       "    </tr>\n",
       "    <tr>\n",
       "      <th>2</th>\n",
       "      <td>N Hollywood</td>\n",
       "      <td>9212N</td>\n",
       "      <td>TRESPASS SUSP NOW</td>\n",
       "      <td>2017-12-02T00:00:00.000</td>\n",
       "      <td>23:58:30</td>\n",
       "      <td>171202005985</td>\n",
       "      <td>1547</td>\n",
       "    </tr>\n",
       "    <tr>\n",
       "      <th>3</th>\n",
       "      <td>Hollenbeck</td>\n",
       "      <td>507P</td>\n",
       "      <td>PARTY</td>\n",
       "      <td>2017-12-02T00:00:00.000</td>\n",
       "      <td>23:58:09</td>\n",
       "      <td>171202006004</td>\n",
       "      <td>0439</td>\n",
       "    </tr>\n",
       "    <tr>\n",
       "      <th>4</th>\n",
       "      <td>Hollenbeck</td>\n",
       "      <td>507P</td>\n",
       "      <td>PARTY</td>\n",
       "      <td>2017-12-02T00:00:00.000</td>\n",
       "      <td>23:58:06</td>\n",
       "      <td>171202006005</td>\n",
       "      <td>0471</td>\n",
       "    </tr>\n",
       "  </tbody>\n",
       "</table>\n",
       "</div>"
      ],
      "text/plain": [
       "  area_occurred call_type_code call_type_description            dispatch_date  \\\n",
       "0       Pacific           9212         TRESPASS SUSP  2017-12-02T00:00:00.000   \n",
       "1    Devonshire            006                CODE 6  2017-12-02T00:00:00.000   \n",
       "2   N Hollywood          9212N     TRESPASS SUSP NOW  2017-12-02T00:00:00.000   \n",
       "3    Hollenbeck           507P                 PARTY  2017-12-02T00:00:00.000   \n",
       "4    Hollenbeck           507P                 PARTY  2017-12-02T00:00:00.000   \n",
       "\n",
       "  dispatch_time incident_number reporting_district  \n",
       "0      23:59:46    171202006023               1452  \n",
       "1      23:59:06    171202006029               1743  \n",
       "2      23:58:30    171202005985               1547  \n",
       "3      23:58:09    171202006004               0439  \n",
       "4      23:58:06    171202006005               0471  "
      ]
     },
     "execution_count": 5,
     "metadata": {},
     "output_type": "execute_result"
    }
   ],
   "source": [
    "data.head()"
   ]
  },
  {
   "cell_type": "code",
   "execution_count": 6,
   "metadata": {},
   "outputs": [
    {
     "name": "stdout",
     "output_type": "stream",
     "text": [
      "Number of records in the file: 1048989\n"
     ]
    }
   ],
   "source": [
    "print('Number of records in the file: {}'.format(len(data)))"
   ]
  },
  {
   "cell_type": "code",
   "execution_count": 7,
   "metadata": {},
   "outputs": [],
   "source": [
    "data.to_csv('calls_for_service_2017.txt',sep='|', index=False, header=True)"
   ]
  },
  {
   "cell_type": "markdown",
   "metadata": {},
   "source": [
    "#### This can be iterated for multiple datasets (depends on size and kernel caacity, may kill your kernel)"
   ]
  },
  {
   "cell_type": "code",
   "execution_count": 8,
   "metadata": {},
   "outputs": [],
   "source": [
    "dictionary = {'crime_2010_ytd':'7fvc-faax', 'call_for_servive_2018':'m9qm-gwm5'}"
   ]
  },
  {
   "cell_type": "code",
   "execution_count": 9,
   "metadata": {},
   "outputs": [
    {
     "data": {
      "text/plain": [
       "dict_values(['7fvc-faax', 'm9qm-gwm5'])"
      ]
     },
     "execution_count": 9,
     "metadata": {},
     "output_type": "execute_result"
    }
   ],
   "source": [
    "dictionary.values()"
   ]
  },
  {
   "cell_type": "code",
   "execution_count": null,
   "metadata": {},
   "outputs": [
    {
     "name": "stdout",
     "output_type": "stream",
     "text": [
      "Number of records in the file: 273909\n"
     ]
    }
   ],
   "source": [
    "for i in dictionary.keys():\n",
    "    results_i = client.get(dictionary[i], limit=1000000000)\n",
    "    data_i = pd.DataFrame.from_records(results_i)\n",
    "    print('Number of records in the file: {}'.format(len(data_i)))\n",
    "    data_i.to_csv('{}.txt'.format(i),sep='|', index=False, header=True)"
   ]
  },
  {
   "cell_type": "markdown",
   "metadata": {},
   "source": [
    "### Using JSON API to retrieve data"
   ]
  },
  {
   "cell_type": "code",
   "execution_count": 10,
   "metadata": {},
   "outputs": [],
   "source": [
    "df = pd.read_json(\"https://data.lacity.org/resource/im35-exj5.json?$limit=100000000\")"
   ]
  },
  {
   "cell_type": "code",
   "execution_count": 11,
   "metadata": {},
   "outputs": [
    {
     "data": {
      "text/html": [
       "<div>\n",
       "<style scoped>\n",
       "    .dataframe tbody tr th:only-of-type {\n",
       "        vertical-align: middle;\n",
       "    }\n",
       "\n",
       "    .dataframe tbody tr th {\n",
       "        vertical-align: top;\n",
       "    }\n",
       "\n",
       "    .dataframe thead th {\n",
       "        text-align: right;\n",
       "    }\n",
       "</style>\n",
       "<table border=\"1\" class=\"dataframe\">\n",
       "  <thead>\n",
       "    <tr style=\"text-align: right;\">\n",
       "      <th></th>\n",
       "      <th>area_occurred</th>\n",
       "      <th>call_type_code</th>\n",
       "      <th>call_type_description</th>\n",
       "      <th>dispatch_date</th>\n",
       "      <th>dispatch_time</th>\n",
       "      <th>incident_number</th>\n",
       "      <th>reporting_district</th>\n",
       "    </tr>\n",
       "  </thead>\n",
       "  <tbody>\n",
       "    <tr>\n",
       "      <th>0</th>\n",
       "      <td>Pacific</td>\n",
       "      <td>9212</td>\n",
       "      <td>TRESPASS SUSP</td>\n",
       "      <td>2017-12-02T00:00:00.000</td>\n",
       "      <td>2018-04-07 23:59:46</td>\n",
       "      <td>171202006023</td>\n",
       "      <td>1452</td>\n",
       "    </tr>\n",
       "    <tr>\n",
       "      <th>1</th>\n",
       "      <td>Devonshire</td>\n",
       "      <td>006</td>\n",
       "      <td>CODE 6</td>\n",
       "      <td>2017-12-02T00:00:00.000</td>\n",
       "      <td>2018-04-07 23:59:06</td>\n",
       "      <td>171202006029</td>\n",
       "      <td>1743</td>\n",
       "    </tr>\n",
       "    <tr>\n",
       "      <th>2</th>\n",
       "      <td>N Hollywood</td>\n",
       "      <td>9212N</td>\n",
       "      <td>TRESPASS SUSP NOW</td>\n",
       "      <td>2017-12-02T00:00:00.000</td>\n",
       "      <td>2018-04-07 23:58:30</td>\n",
       "      <td>171202005985</td>\n",
       "      <td>1547</td>\n",
       "    </tr>\n",
       "    <tr>\n",
       "      <th>3</th>\n",
       "      <td>Hollenbeck</td>\n",
       "      <td>507P</td>\n",
       "      <td>PARTY</td>\n",
       "      <td>2017-12-02T00:00:00.000</td>\n",
       "      <td>2018-04-07 23:58:09</td>\n",
       "      <td>171202006004</td>\n",
       "      <td>439</td>\n",
       "    </tr>\n",
       "    <tr>\n",
       "      <th>4</th>\n",
       "      <td>Hollenbeck</td>\n",
       "      <td>507P</td>\n",
       "      <td>PARTY</td>\n",
       "      <td>2017-12-02T00:00:00.000</td>\n",
       "      <td>2018-04-07 23:58:06</td>\n",
       "      <td>171202006005</td>\n",
       "      <td>471</td>\n",
       "    </tr>\n",
       "  </tbody>\n",
       "</table>\n",
       "</div>"
      ],
      "text/plain": [
       "  area_occurred call_type_code call_type_description            dispatch_date  \\\n",
       "0       Pacific           9212         TRESPASS SUSP  2017-12-02T00:00:00.000   \n",
       "1    Devonshire            006                CODE 6  2017-12-02T00:00:00.000   \n",
       "2   N Hollywood          9212N     TRESPASS SUSP NOW  2017-12-02T00:00:00.000   \n",
       "3    Hollenbeck           507P                 PARTY  2017-12-02T00:00:00.000   \n",
       "4    Hollenbeck           507P                 PARTY  2017-12-02T00:00:00.000   \n",
       "\n",
       "        dispatch_time  incident_number  reporting_district  \n",
       "0 2018-04-07 23:59:46     171202006023                1452  \n",
       "1 2018-04-07 23:59:06     171202006029                1743  \n",
       "2 2018-04-07 23:58:30     171202005985                1547  \n",
       "3 2018-04-07 23:58:09     171202006004                 439  \n",
       "4 2018-04-07 23:58:06     171202006005                 471  "
      ]
     },
     "execution_count": 11,
     "metadata": {},
     "output_type": "execute_result"
    }
   ],
   "source": [
    "df.head()"
   ]
  },
  {
   "cell_type": "code",
   "execution_count": 12,
   "metadata": {},
   "outputs": [
    {
     "data": {
      "text/plain": [
       "1048989"
      ]
     },
     "execution_count": 12,
     "metadata": {},
     "output_type": "execute_result"
    }
   ],
   "source": [
    "len(df)"
   ]
  },
  {
   "cell_type": "code",
   "execution_count": null,
   "metadata": {},
   "outputs": [],
   "source": [
    "#df.to_csv('calls_for_service_2017.txt',sep='|', index=False, header=True)"
   ]
  }
 ],
 "metadata": {
  "kernelspec": {
   "display_name": "GB_Python3",
   "language": "python",
   "name": "gb_python3"
  },
  "language_info": {
   "codemirror_mode": {
    "name": "ipython",
    "version": 3
   },
   "file_extension": ".py",
   "mimetype": "text/x-python",
   "name": "python",
   "nbconvert_exporter": "python",
   "pygments_lexer": "ipython3",
   "version": "3.5.5"
  }
 },
 "nbformat": 4,
 "nbformat_minor": 2
}
